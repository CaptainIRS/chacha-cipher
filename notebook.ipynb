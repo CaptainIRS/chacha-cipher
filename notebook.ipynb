{
 "cells": [
  {
   "cell_type": "code",
   "execution_count": 1,
   "id": "9e0309d6",
   "metadata": {},
   "outputs": [],
   "source": [
    "#include <iostream>\n",
    "\n",
    "#define LOGS_ENABLED\n",
    "\n",
    "#include \"chacha.hpp\""
   ]
  },
  {
   "cell_type": "code",
   "execution_count": 2,
   "id": "3e3fdda7-a28e-475c-8be3-a4211a6c3970",
   "metadata": {},
   "outputs": [
    {
     "name": "stdout",
     "output_type": "stream",
     "text": [
      "\u001b[34mLOG: \u001b[0mPlaintext:\n",
      "000  4c 61 64 69 65 73 20 61 6e 64 20 47 65 6e 74 6c  Ladies and Gentl\n",
      "016  65 6d 65 6e 20 6f 66 20 74 68 65 20 63 6c 61 73  emen of the clas\n",
      "032  73 20 6f 66 20 27 39 39 3a 20 49 66 20 49 20 63  s of '99: If I c\n",
      "048  6f 75 6c 64 20 6f 66 66 65 72 20 79 6f 75 20 6f  ould offer you o\n",
      "064  6e 6c 79 20 6f 6e 65 20 74 69 70 20 66 6f 72 20  nly one tip for \n",
      "080  74 68 65 20 66 75 74 75 72 65 2c 20 73 75 6e 73  the future, suns\n",
      "096  63 72 65 65 6e 20 77 6f 75 6c 64 20 62 65 20 69  creen would be i\n",
      "112  74 2e                                            t.              \n",
      "\u001b[34mLOG: \u001b[0mProcessing block 1\n",
      "\u001b[34mLOG: \u001b[0mInitial state:\n",
      "\t61707865 3320646e 79622d32 6b206574 \n",
      "\t03020100 07060504 0b0a0908 0f0e0d0c \n",
      "\t13121110 17161514 1b1a1918 1f1e1d1c \n",
      "\t00000001 00000000 4a000000 01000000 \n",
      "\u001b[34mLOG: \u001b[0mState after quarter rounds:\n",
      "\t1af60e35 80d8b164 50c155e7 2c2befd6 \n",
      "\tefb9096b a3fc8698 c47d7d4c 0aa378ce \n",
      "\tdf63187b 4ff30e41 81ec37e1 8942e9ef \n",
      "\t70d35dd7 eca9486a 98c3fe4d efad6108 \n",
      "\u001b[34mLOG: \u001b[0mState after adding blocks:\n",
      "\t7c66869a b3f915d2 ca238319 974c554a \n",
      "\tf2bb0a6b ab028b9c cf878654 19b185da \n",
      "\tf275298b 67092355 9d0650f9 a861070b \n",
      "\t70d35dd8 eca9486a e2c3fe4d f0ad6108 \n",
      "\u001b[34mLOG: \u001b[0mProcessing block 2\n",
      "\u001b[34mLOG: \u001b[0mInitial state:\n",
      "\t61707865 3320646e 79622d32 6b206574 \n",
      "\t03020100 07060504 0b0a0908 0f0e0d0c \n",
      "\t13121110 17161514 1b1a1918 1f1e1d1c \n",
      "\t00000002 00000000 4a000000 01000000 \n",
      "\u001b[34mLOG: \u001b[0mState after quarter rounds:\n",
      "\tc60e77cc ec200891 f585e6cf acdc393f \n",
      "\te39cb4e9 fa8b63b6 14360648 7e1bddfe \n",
      "\t248c1bdd 19d3cf66 ec7d8a2e bde6ec18 \n",
      "\t5bccbe16 28a4d07d 3a01640f 09819a84 \n",
      "\u001b[34mLOG: \u001b[0mState after adding blocks:\n",
      "\t277ef031 1f406cff 6ee81401 17fc9eb3 \n",
      "\te69eb5e9 019168ba 1f400f50 8d29eb0a \n",
      "\t379e2ced 30e9e47a 0797a346 dd050934 \n",
      "\t5bccbe18 28a4d07d 8401640f 0a819a84 \n",
      "\u001b[34mLOG: \u001b[0mEncrypted message:\n",
      "000  d6 e7 02 15 b7 66 d9 d2 77 e7 03 8d 2f 3b 38 fb  .....f..w.../;8.\n",
      "016  0e 67 de 9c bc e4 64 8b 20 ee e2 ef b9 e9 d0 6a  .g....d. ......j\n",
      "032  f8 09 1a 94 75 04 30 5e c3 70 4f fb 2b 4e 41 cb  ....u.0^.pO.+NA.\n",
      "048  b7 28 bf 14 4a 27 cf 8a 28 8c e3 9b 67 14 8d 9f  .(..J'..(...g...\n",
      "064  5f 9c 07 07 90 02 25 3f 75 7d 98 4e d5 f1 8e 37  _.....%?u}.N...7\n",
      "080  9d dd fb c6 dc 1d e5 74 22 6a 6c 3f 79 9e 47 fe  .......t\"jl?y.G.\n",
      "096  8e 5e fb 52 14 c4 9e 5f 33 cf f3 27 56 6c 25 b4  .^.R..._3..'Vl%.\n",
      "112  6c 90                                            l.              \n"
     ]
    }
   ],
   "source": [
    "std::string plaintext = \"Ladies and Gentlemen of the class of '99: If I could offer you only one tip for the future, sunscreen would be it.\";\n",
    "std::string key_string = \"00:01:02:03:04:05:06:07:08:09:0a:0b:0c:0d:0e:0f:10:11:12:13:14:15:16:17:18:19:1a:1b:1c:1d:1e:1f\";\n",
    "std::string nonce_string = \"00:00:00:00:00:00:00:4a:00:00:00:01\";\n",
    "\n",
    "std::string ciphertext = chacha_encrypt(plaintext, key_string, nonce_string, 1);"
   ]
  },
  {
   "cell_type": "code",
   "execution_count": 3,
   "id": "3ce8babb-baa0-4833-8fa7-3eb66d030ac9",
   "metadata": {},
   "outputs": [
    {
     "name": "stdout",
     "output_type": "stream",
     "text": [
      "\u001b[34mLOG: \u001b[0mPlaintext:\n",
      "000  d6 e7 02 15 b7 66 d9 d2 77 e7 03 8d 2f 3b 38 fb  .....f..w.../;8.\n",
      "016  0e 67 de 9c bc e4 64 8b 20 ee e2 ef b9 e9 d0 6a  .g....d. ......j\n",
      "032  f8 09 1a 94 75 04 30 5e c3 70 4f fb 2b 4e 41 cb  ....u.0^.pO.+NA.\n",
      "048  b7 28 bf 14 4a 27 cf 8a 28 8c e3 9b 67 14 8d 9f  .(..J'..(...g...\n",
      "064  5f 9c 07 07 90 02 25 3f 75 7d 98 4e d5 f1 8e 37  _.....%?u}.N...7\n",
      "080  9d dd fb c6 dc 1d e5 74 22 6a 6c 3f 79 9e 47 fe  .......t\"jl?y.G.\n",
      "096  8e 5e fb 52 14 c4 9e 5f 33 cf f3 27 56 6c 25 b4  .^.R..._3..'Vl%.\n",
      "112  6c 90                                            l.              \n",
      "\u001b[34mLOG: \u001b[0mProcessing block 1\n",
      "\u001b[34mLOG: \u001b[0mInitial state:\n",
      "\t61707865 3320646e 79622d32 6b206574 \n",
      "\t03020100 07060504 0b0a0908 0f0e0d0c \n",
      "\t13121110 17161514 1b1a1918 1f1e1d1c \n",
      "\t00000001 00000000 4a000000 01000000 \n",
      "\u001b[34mLOG: \u001b[0mState after quarter rounds:\n",
      "\t1af60e35 80d8b164 50c155e7 2c2befd6 \n",
      "\tefb9096b a3fc8698 c47d7d4c 0aa378ce \n",
      "\tdf63187b 4ff30e41 81ec37e1 8942e9ef \n",
      "\t70d35dd7 eca9486a 98c3fe4d efad6108 \n",
      "\u001b[34mLOG: \u001b[0mState after adding blocks:\n",
      "\t7c66869a b3f915d2 ca238319 974c554a \n",
      "\tf2bb0a6b ab028b9c cf878654 19b185da \n",
      "\tf275298b 67092355 9d0650f9 a861070b \n",
      "\t70d35dd8 eca9486a e2c3fe4d f0ad6108 \n",
      "\u001b[34mLOG: \u001b[0mProcessing block 2\n",
      "\u001b[34mLOG: \u001b[0mInitial state:\n",
      "\t61707865 3320646e 79622d32 6b206574 \n",
      "\t03020100 07060504 0b0a0908 0f0e0d0c \n",
      "\t13121110 17161514 1b1a1918 1f1e1d1c \n",
      "\t00000002 00000000 4a000000 01000000 \n",
      "\u001b[34mLOG: \u001b[0mState after quarter rounds:\n",
      "\tc60e77cc ec200891 f585e6cf acdc393f \n",
      "\te39cb4e9 fa8b63b6 14360648 7e1bddfe \n",
      "\t248c1bdd 19d3cf66 ec7d8a2e bde6ec18 \n",
      "\t5bccbe16 28a4d07d 3a01640f 09819a84 \n",
      "\u001b[34mLOG: \u001b[0mState after adding blocks:\n",
      "\t277ef031 1f406cff 6ee81401 17fc9eb3 \n",
      "\te69eb5e9 019168ba 1f400f50 8d29eb0a \n",
      "\t379e2ced 30e9e47a 0797a346 dd050934 \n",
      "\t5bccbe18 28a4d07d 8401640f 0a819a84 \n",
      "\u001b[34mLOG: \u001b[0mEncrypted message:\n",
      "000  4c 61 64 69 65 73 20 61 6e 64 20 47 65 6e 74 6c  Ladies and Gentl\n",
      "016  65 6d 65 6e 20 6f 66 20 74 68 65 20 63 6c 61 73  emen of the clas\n",
      "032  73 20 6f 66 20 27 39 39 3a 20 49 66 20 49 20 63  s of '99: If I c\n",
      "048  6f 75 6c 64 20 6f 66 66 65 72 20 79 6f 75 20 6f  ould offer you o\n",
      "064  6e 6c 79 20 6f 6e 65 20 74 69 70 20 66 6f 72 20  nly one tip for \n",
      "080  74 68 65 20 66 75 74 75 72 65 2c 20 73 75 6e 73  the future, suns\n",
      "096  63 72 65 65 6e 20 77 6f 75 6c 64 20 62 65 20 69  creen would be i\n",
      "112  74 2e                                            t.              \n"
     ]
    }
   ],
   "source": [
    "std::string decrypted_plaintext = chacha_encrypt(ciphertext, key_string, nonce_string, 1);"
   ]
  },
  {
   "cell_type": "code",
   "execution_count": 4,
   "id": "716a96f8-af30-4c59-ad7a-8bffa8df3ae5",
   "metadata": {},
   "outputs": [
    {
     "name": "stdout",
     "output_type": "stream",
     "text": [
      "Ladies and Gentlemen of the class of '99: If I could offer you only one tip for the future, sunscreen would be it."
     ]
    }
   ],
   "source": [
    "std::cout << decrypted_plaintext;"
   ]
  },
  {
   "cell_type": "code",
   "execution_count": null,
   "id": "1aa75bf7-7a7a-46a8-9121-b0752e58ff81",
   "metadata": {},
   "outputs": [],
   "source": []
  }
 ],
 "metadata": {
  "kernelspec": {
   "display_name": "C++14",
   "language": "C++14",
   "name": "xcpp14"
  },
  "language_info": {
   "codemirror_mode": "text/x-c++src",
   "file_extension": ".cpp",
   "mimetype": "text/x-c++src",
   "name": "c++",
   "version": "14"
  }
 },
 "nbformat": 4,
 "nbformat_minor": 5
}
